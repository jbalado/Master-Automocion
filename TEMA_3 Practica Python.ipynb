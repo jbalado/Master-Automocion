{
  "cells":[
    {
      "cell_type":"markdown",
      "source":[
        "# Práctica: Inteligencia Artificial en Python\n",
        "\n",
        "El objetivo de esta práctica es que el alumno se familiarice con la Inteligencia Artificial en un caso de estudio práctico. Para lo cual, continuando la practica anterior, se ha seleccionado un problema clásico en el procesado de nubes de puntos: la segmentación semántica de una nube. Con el mismo tipo de datos que en la Práctica 2, nubes de puntos adquiridas con Velodyne64 y disponibles en SemanticKITTI.\n",
        "\n",
        "Un problema de segmentación semántica consiste en clasificar cada elemento básico que componen los datos. En imagen, se trata de pixeles, en nubes de puntos, se trata de puntos. A veces, la segmentación semántica también se denomina clasificación pixel por pixel, o punto por punto.\n"
      ],
      "metadata":{
        
      }
    },
    {
      "cell_type":"markdown",
      "source":[
        "# Objetivos\n",
        "\n",
        "En esta práctica vamos a ver fragmentos de código que expliquen cómo se preparar datos para un algoritmo de IA, entrenarlo y usarlo para realizar predicciones. Las operaciones que se estudiarán a continuación son:\n",
        "\n",
        "- Lectura y escritura de nubes de puntos como datos txt\n",
        "- Preparación de datos para Inteligencia Artificial\n",
        "- Extracción de características\n",
        "- Entrenamiento de algoritmos\n",
        "- Análisis de los resultados mediante métricas: matrices de confusión, precision, recall, f1-score y accuracy\n",
        "- Visualización de la clasificación"
      ],
      "metadata":{
        
      }
    },
    {
      "cell_type":"markdown",
      "source":[
        "# Tarea 1\n",
        "\n",
        "Los algoritmos empleados en inteligencia artificial son bastante complejos. Aunque podemos programar un algoritmo con conocimientos simples sobre el tema, conseguir que alcance las tasas de acierto de algoritmos ya desarrollados por otros autores requiere un fuerte conocimeinto en matemáticas y computación, además de pontentes servidores donde realizar pruebas. Por suerte, la mayoría de algoritmos de IA están en código abierto y recopilados en librerías.\n",
        "\n",
        "La primera tarea consiste en preparar el notebook para trabajar con él:\n",
        "- Carga en el direcorio las carpetas *Nubes* e *img*, \n",
        "- Instala la librería *pyntcloud*\n",
        "- Comprueba si la librería sklearn está instalada. **Nota**: sklearn aparece en el instalador como scikit-learn.\n",
        "\n",
        "Puedes encontrar la ayuda de esta librería en:\n",
        "- https:\/\/scikit-learn.org\/stable\/"
      ],
      "metadata":{
        
      }
    },
    {
      "cell_type":"markdown",
      "source":[
        "Una vez instalada la librería, vamos a importar todas las funciones que necesitamos. Si alguna da error, comprueba que está instalada en el entorno."
      ],
      "metadata":{
        
      }
    },
    {
      "cell_type":"code",
      "source":[
        "import numpy as np\n",
        "from pyntcloud import PyntCloud\n",
        "import pandas as pd\n",
        "from sklearn import svm\n",
        "from sklearn.ensemble import RandomForestClassifier\n",
        "from sklearn.metrics import classification_report, confusion_matrix, accuracy_score"
      ],
      "execution_count":2,
      "outputs":[
        
      ],
      "metadata":{
        
      }
    },
    {
      "cell_type":"markdown",
      "source":[
        "# Lectura y escritura de nubes de puntos como datos txt\n",
        "\n",
        "Los algoritmos basados en IA necesitan de una fase de entrenamiento antes de poder emplearlos para clasificar nuevos datos. Como dato de entrada vamos a emplear las nubes de puntos 000036 (train) y 000079 (test). Pero en este caso no vamos a cargarlas como pcd, si no como txt, puesto que este tipo de formato, junto con csv, es el más común en el que podemos encontrar otros tipos de datos para IA. "
      ],
      "metadata":{
        
      }
    },
    {
      "cell_type":"code",
      "source":[
        "# Lectura de datos\n",
        "train_data = np.loadtxt(\"Nubes\/000036.txt\", delimiter=' ')\n",
        "#Visualización\n",
        "print(train_data)"
      ],
      "execution_count":3,
      "outputs":[
        {
          "name":"stdout",
          "text":[
            "[[-17.16173553  11.24152946  -2.31720781   3.        ]\n",
            " [  4.90871477   5.81539869  -1.88928902   3.        ]\n",
            " [ -1.45642543  -5.4461484   -1.49202049   3.        ]\n",
            " ...\n",
            " [ -3.27209139  -6.23964262   0.18170004   2.        ]\n",
            " [ -4.83830881  -6.34132957  -0.91975325   2.        ]\n",
            " [  2.9530251    3.6776309   -1.87011027   3.        ]]\n"
          ],
          "output_type":"stream"
        }
      ],
      "metadata":{
        
      }
    },
    {
      "cell_type":"markdown",
      "source":[
        "La organización de los datos en IA se distribuye en matrices donde cada fila se corresponde con una muestra y cada columna con un atributo. Esto es muy similar a como se distribuyen las nubes de puntos. En los datos anteriores podemos ver que cada punto contiene 3 coordeandas y la cuarta columna se corresponde con la etiqueta siguiendo el siguiente código:\n",
        "- 1: coche\n",
        "- 2: edificio\n",
        "- 3: suelo\n",
        "- 4: vegetación"
      ],
      "metadata":{
        
      }
    },
    {
      "cell_type":"markdown",
      "source":[
        "# Preparación de datos para Inteligencia Artificial\n",
        "\n",
        "Pero estos datos no pueden emplearse directamente en un algoritmo de IA, deben dividirse en una matriz de atributos NxM, siendo N el número de muestras y M el número de atributos, y una matriz de etiquetas (Nx1).\n",
        "\n",
        "Además, en nubes de puntos no se pueden emplear las coordenadas como atributos de entrenamiento para IA, puesto que la posición de los puntos en coordenadas absolutas no representa ni tiene relación con nuevos datos. En nubes de puntos, las coordenadas son empleadas para extraer nuevas características geométricas que sí son aptas para el clasificador.\n",
        "\n",
        "Por lo tanto, antes de nada, vamos a dividir la matriz de entrada en dos matrices:\n",
        "- Matriz de coordenadas (definida como un dataframe con título de columnas, necesario para su transformación a Pyntcloud object)\n",
        "- Matriz de etiquetas (definida como numpy array)"
      ],
      "metadata":{
        
      }
    },
    {
      "cell_type":"code",
      "source":[
        "# Extraer matriz de coordenadas\n",
        "coord = pd.DataFrame(list(zip(train_data[:,0],train_data[:,1],train_data[:,2])))  \n",
        "\n",
        "# Asignar título a columnas\n",
        "coord.columns =['x', 'y', 'z']\n",
        "\n",
        "#Visualizar\n",
        "print(coord)"
      ],
      "execution_count":4,
      "outputs":[
        {
          "name":"stdout",
          "text":[
            "                x          y         z\n",
            "0      -17.161736  11.241529 -2.317208\n",
            "1        4.908715   5.815399 -1.889289\n",
            "2       -1.456425  -5.446148 -1.492020\n",
            "3       -1.972294  11.678061 -0.694271\n",
            "4       -7.067206  -6.265741 -0.708958\n",
            "...           ...        ...       ...\n",
            "112686   7.683413  -6.757722 -0.500771\n",
            "112687   3.666602  -6.263341 -0.079479\n",
            "112688  -3.272091  -6.239643  0.181700\n",
            "112689  -4.838309  -6.341330 -0.919753\n",
            "112690   2.953025   3.677631 -1.870110\n",
            "\n",
            "[112691 rows x 3 columns]\n"
          ],
          "output_type":"stream"
        }
      ],
      "metadata":{
        
      }
    },
    {
      "cell_type":"code",
      "source":[
        "# Extraer matriz de etiquetas\n",
        "train_labels = train_data[:,3]\n",
        "\n",
        "#Visualizar\n",
        "print(train_labels)"
      ],
      "execution_count":0,
      "outputs":[
        
      ],
      "metadata":{
        
      }
    },
    {
      "cell_type":"markdown",
      "source":[
        "# Extracción de características\n",
        "\n",
        "Como se menciona anteriormente, las coordenadas no son útiles para el entrenamiento de un algoritmo basado en IA, y por lo tanto tenemos que extraer características geométricas. Aunque podemos calcularlas empleada directamente la matriz, es más fácil convertir la matriz a un objeto cloud en la librería pyntcloud y emplear sus funciones para calcularlas, como en la Práctica 2. \n",
        "\n",
        "Para una conversión correcta, cloud no admite un numpyarray, si no que tiene que emplearse un dataframe con los títulos \"x\", \"y\", y \"z\", calculados en el paso anterior.\n",
        "\n",
        "Las características empleadas para el entrenamiento serán:\n",
        "- Normales\n",
        "- Curvatura\n",
        "- Omnivariaza\n",
        "- Linealidad\n",
        "- Planaridad\n",
        "- Dispersion\n",
        "\n",
        "El uso de estas características está ampliamente extendido en nubes de puntos, su cálculo se encuentra explicado en el siguiente trabajo científico:\n",
        "- Weinmann, M., Jutzi, B., & Mallet, C. (2014). Semantic 3D scene interpretation: A framework combining optimal neighborhood size selection with relevant features. ISPRS Annals of the Photogrammetry, Remote Sensing and Spatial Information Sciences, 2(3), 181."
      ],
      "metadata":{
        
      }
    },
    {
      "cell_type":"code",
      "source":[
        "#Conversion\n",
        "cloud = PyntCloud(coord)\n",
        "\n",
        "#Visualización\n",
        "print(cloud)"
      ],
      "execution_count":5,
      "outputs":[
        {
          "name":"stdout",
          "text":[
            "PyntCloud\n",
            "112691 points with 0 scalar fields\n",
            "0 faces in mesh\n",
            "0 kdtrees\n",
            "0 voxelgrids\n",
            "Centroid: -0.3115564670011339, 0.6556871394265795, -1.1372909533108966\n",
            "Other attributes:\n",
            "\n"
          ],
          "output_type":"stream"
        }
      ],
      "metadata":{
        
      }
    },
    {
      "cell_type":"markdown",
      "source":[
        "# Tarea 2\n",
        "\n",
        "Calcula las normales para 25 vecinos."
      ],
      "metadata":{
        
      }
    },
    {
      "cell_type":"code",
      "source":[
        "# Cálculo de 25 vecinos\n",
        "k_neighbors_25 = COMPLETAR\n",
        "\n",
        "# Cálculo de normales\n",
        "COMPLETAR\n",
        "\n",
        "#Visualización\n",
        "cloud.points"
      ],
      "execution_count":6,
      "outputs":[
        {
          "data":{
            "text\/html":[
              "<div>\n",
              "<style scoped>\n",
              "    .dataframe tbody tr th:only-of-type {\n",
              "        vertical-align: middle;\n",
              "    }\n",
              "\n",
              "    .dataframe tbody tr th {\n",
              "        vertical-align: top;\n",
              "    }\n",
              "\n",
              "    .dataframe thead th {\n",
              "        text-align: right;\n",
              "    }\n",
              "<\/style>\n",
              "<table border=\"1\" class=\"dataframe\">\n",
              "  <thead>\n",
              "    <tr style=\"text-align: right;\">\n",
              "      <th><\/th>\n",
              "      <th>x<\/th>\n",
              "      <th>y<\/th>\n",
              "      <th>z<\/th>\n",
              "      <th>nx(26)<\/th>\n",
              "      <th>ny(26)<\/th>\n",
              "      <th>nz(26)<\/th>\n",
              "    <\/tr>\n",
              "  <\/thead>\n",
              "  <tbody>\n",
              "    <tr>\n",
              "      <th>0<\/th>\n",
              "      <td>-17.161736<\/td>\n",
              "      <td>11.241529<\/td>\n",
              "      <td>-2.317208<\/td>\n",
              "      <td>0.409398<\/td>\n",
              "      <td>-0.516128<\/td>\n",
              "      <td>0.752333<\/td>\n",
              "    <\/tr>\n",
              "    <tr>\n",
              "      <th>1<\/th>\n",
              "      <td>4.908715<\/td>\n",
              "      <td>5.815399<\/td>\n",
              "      <td>-1.889289<\/td>\n",
              "      <td>-0.036945<\/td>\n",
              "      <td>-0.011548<\/td>\n",
              "      <td>0.999251<\/td>\n",
              "    <\/tr>\n",
              "    <tr>\n",
              "      <th>2<\/th>\n",
              "      <td>-1.456425<\/td>\n",
              "      <td>-5.446148<\/td>\n",
              "      <td>-1.492020<\/td>\n",
              "      <td>-0.001438<\/td>\n",
              "      <td>0.117189<\/td>\n",
              "      <td>0.993109<\/td>\n",
              "    <\/tr>\n",
              "    <tr>\n",
              "      <th>3<\/th>\n",
              "      <td>-1.972294<\/td>\n",
              "      <td>11.678061<\/td>\n",
              "      <td>-0.694271<\/td>\n",
              "      <td>0.029662<\/td>\n",
              "      <td>-0.993468<\/td>\n",
              "      <td>0.110186<\/td>\n",
              "    <\/tr>\n",
              "    <tr>\n",
              "      <th>4<\/th>\n",
              "      <td>-7.067206<\/td>\n",
              "      <td>-6.265741<\/td>\n",
              "      <td>-0.708958<\/td>\n",
              "      <td>0.002528<\/td>\n",
              "      <td>0.999790<\/td>\n",
              "      <td>0.020353<\/td>\n",
              "    <\/tr>\n",
              "    <tr>\n",
              "      <th>...<\/th>\n",
              "      <td>...<\/td>\n",
              "      <td>...<\/td>\n",
              "      <td>...<\/td>\n",
              "      <td>...<\/td>\n",
              "      <td>...<\/td>\n",
              "      <td>...<\/td>\n",
              "    <\/tr>\n",
              "    <tr>\n",
              "      <th>112686<\/th>\n",
              "      <td>7.683413<\/td>\n",
              "      <td>-6.757722<\/td>\n",
              "      <td>-0.500771<\/td>\n",
              "      <td>0.354603<\/td>\n",
              "      <td>-0.929409<\/td>\n",
              "      <td>0.102250<\/td>\n",
              "    <\/tr>\n",
              "    <tr>\n",
              "      <th>112687<\/th>\n",
              "      <td>3.666602<\/td>\n",
              "      <td>-6.263341<\/td>\n",
              "      <td>-0.079479<\/td>\n",
              "      <td>-0.031530<\/td>\n",
              "      <td>0.998498<\/td>\n",
              "      <td>0.044809<\/td>\n",
              "    <\/tr>\n",
              "    <tr>\n",
              "      <th>112688<\/th>\n",
              "      <td>-3.272091<\/td>\n",
              "      <td>-6.239643<\/td>\n",
              "      <td>0.181700<\/td>\n",
              "      <td>-0.053892<\/td>\n",
              "      <td>0.978357<\/td>\n",
              "      <td>0.199785<\/td>\n",
              "    <\/tr>\n",
              "    <tr>\n",
              "      <th>112689<\/th>\n",
              "      <td>-4.838309<\/td>\n",
              "      <td>-6.341330<\/td>\n",
              "      <td>-0.919753<\/td>\n",
              "      <td>-0.014882<\/td>\n",
              "      <td>-0.994041<\/td>\n",
              "      <td>0.107983<\/td>\n",
              "    <\/tr>\n",
              "    <tr>\n",
              "      <th>112690<\/th>\n",
              "      <td>2.953025<\/td>\n",
              "      <td>3.677631<\/td>\n",
              "      <td>-1.870110<\/td>\n",
              "      <td>0.006818<\/td>\n",
              "      <td>0.060600<\/td>\n",
              "      <td>0.998139<\/td>\n",
              "    <\/tr>\n",
              "  <\/tbody>\n",
              "<\/table>\n",
              "<p>112691 rows × 6 columns<\/p>\n",
              "<\/div>"
            ]
          },
          "metadata":{
            
          },
          "output_type":"display_data"
        }
      ],
      "metadata":{
        
      }
    },
    {
      "cell_type":"markdown",
      "source":[
        "A continuación, calcularemos las características basadas en autovalores"
      ],
      "metadata":{
        
      }
    },
    {
      "cell_type":"code",
      "source":[
        "# Cálulo de autovalores\n",
        "eigenvalues = cloud.add_scalar_field(\"eigen_values\", k_neighbors=k_neighbors_25)\n",
        "\n",
        "# Cálculo de características\n",
        "cloud.add_scalar_field(\"curvature\", ev=eigenvalues)\n",
        "cloud.add_scalar_field(\"omnivariance\", ev=eigenvalues)\n",
        "cloud.add_scalar_field(\"linearity\", ev=eigenvalues)\n",
        "cloud.add_scalar_field(\"planarity\", ev=eigenvalues)\n",
        "cloud.add_scalar_field(\"sphericity\", ev=eigenvalues)\n",
        "\n",
        "# Visualización de los datos\n",
        "cloud.points"
      ],
      "execution_count":7,
      "outputs":[
        {
          "data":{
            "text\/html":[
              "<div>\n",
              "<style scoped>\n",
              "    .dataframe tbody tr th:only-of-type {\n",
              "        vertical-align: middle;\n",
              "    }\n",
              "\n",
              "    .dataframe tbody tr th {\n",
              "        vertical-align: top;\n",
              "    }\n",
              "\n",
              "    .dataframe thead th {\n",
              "        text-align: right;\n",
              "    }\n",
              "<\/style>\n",
              "<table border=\"1\" class=\"dataframe\">\n",
              "  <thead>\n",
              "    <tr style=\"text-align: right;\">\n",
              "      <th><\/th>\n",
              "      <th>x<\/th>\n",
              "      <th>y<\/th>\n",
              "      <th>z<\/th>\n",
              "      <th>nx(26)<\/th>\n",
              "      <th>ny(26)<\/th>\n",
              "      <th>nz(26)<\/th>\n",
              "      <th>e1(26)<\/th>\n",
              "      <th>e2(26)<\/th>\n",
              "      <th>e3(26)<\/th>\n",
              "      <th>curvature(26)<\/th>\n",
              "      <th>omnivariance(26)<\/th>\n",
              "      <th>linearity(26)<\/th>\n",
              "      <th>planarity(26)<\/th>\n",
              "      <th>sphericity(26)<\/th>\n",
              "    <\/tr>\n",
              "  <\/thead>\n",
              "  <tbody>\n",
              "    <tr>\n",
              "      <th>0<\/th>\n",
              "      <td>-17.161736<\/td>\n",
              "      <td>11.241529<\/td>\n",
              "      <td>-2.317208<\/td>\n",
              "      <td>0.409398<\/td>\n",
              "      <td>-0.516128<\/td>\n",
              "      <td>0.752333<\/td>\n",
              "      <td>0.068245<\/td>\n",
              "      <td>0.021763<\/td>\n",
              "      <td>0.011965<\/td>\n",
              "      <td>0.117333<\/td>\n",
              "      <td>0.026095<\/td>\n",
              "      <td>0.681104<\/td>\n",
              "      <td>0.143574<\/td>\n",
              "      <td>0.175322<\/td>\n",
              "    <\/tr>\n",
              "    <tr>\n",
              "      <th>1<\/th>\n",
              "      <td>4.908715<\/td>\n",
              "      <td>5.815399<\/td>\n",
              "      <td>-1.889289<\/td>\n",
              "      <td>-0.036945<\/td>\n",
              "      <td>-0.011548<\/td>\n",
              "      <td>0.999251<\/td>\n",
              "      <td>0.025810<\/td>\n",
              "      <td>0.002773<\/td>\n",
              "      <td>0.000005<\/td>\n",
              "      <td>0.000187<\/td>\n",
              "      <td>0.000726<\/td>\n",
              "      <td>0.892562<\/td>\n",
              "      <td>0.107231<\/td>\n",
              "      <td>0.000207<\/td>\n",
              "    <\/tr>\n",
              "    <tr>\n",
              "      <th>2<\/th>\n",
              "      <td>-1.456425<\/td>\n",
              "      <td>-5.446148<\/td>\n",
              "      <td>-1.492020<\/td>\n",
              "      <td>-0.001438<\/td>\n",
              "      <td>0.117189<\/td>\n",
              "      <td>0.993109<\/td>\n",
              "      <td>0.006031<\/td>\n",
              "      <td>0.003793<\/td>\n",
              "      <td>0.000003<\/td>\n",
              "      <td>0.000305<\/td>\n",
              "      <td>0.000409<\/td>\n",
              "      <td>0.371051<\/td>\n",
              "      <td>0.628452<\/td>\n",
              "      <td>0.000497<\/td>\n",
              "    <\/tr>\n",
              "    <tr>\n",
              "      <th>3<\/th>\n",
              "      <td>-1.972294<\/td>\n",
              "      <td>11.678061<\/td>\n",
              "      <td>-0.694271<\/td>\n",
              "      <td>0.029662<\/td>\n",
              "      <td>-0.993468<\/td>\n",
              "      <td>0.110186<\/td>\n",
              "      <td>0.005337<\/td>\n",
              "      <td>0.004681<\/td>\n",
              "      <td>0.001161<\/td>\n",
              "      <td>0.103868<\/td>\n",
              "      <td>0.003073<\/td>\n",
              "      <td>0.122956<\/td>\n",
              "      <td>0.659481<\/td>\n",
              "      <td>0.217563<\/td>\n",
              "    <\/tr>\n",
              "    <tr>\n",
              "      <th>4<\/th>\n",
              "      <td>-7.067206<\/td>\n",
              "      <td>-6.265741<\/td>\n",
              "      <td>-0.708958<\/td>\n",
              "      <td>0.002528<\/td>\n",
              "      <td>0.999790<\/td>\n",
              "      <td>0.020353<\/td>\n",
              "      <td>0.005885<\/td>\n",
              "      <td>0.005260<\/td>\n",
              "      <td>0.000068<\/td>\n",
              "      <td>0.006097<\/td>\n",
              "      <td>0.001284<\/td>\n",
              "      <td>0.106104<\/td>\n",
              "      <td>0.882278<\/td>\n",
              "      <td>0.011618<\/td>\n",
              "    <\/tr>\n",
              "    <tr>\n",
              "      <th>...<\/th>\n",
              "      <td>...<\/td>\n",
              "      <td>...<\/td>\n",
              "      <td>...<\/td>\n",
              "      <td>...<\/td>\n",
              "      <td>...<\/td>\n",
              "      <td>...<\/td>\n",
              "      <td>...<\/td>\n",
              "      <td>...<\/td>\n",
              "      <td>...<\/td>\n",
              "      <td>...<\/td>\n",
              "      <td>...<\/td>\n",
              "      <td>...<\/td>\n",
              "      <td>...<\/td>\n",
              "      <td>...<\/td>\n",
              "    <\/tr>\n",
              "    <tr>\n",
              "      <th>112686<\/th>\n",
              "      <td>7.683413<\/td>\n",
              "      <td>-6.757722<\/td>\n",
              "      <td>-0.500771<\/td>\n",
              "      <td>0.354603<\/td>\n",
              "      <td>-0.929409<\/td>\n",
              "      <td>0.102250<\/td>\n",
              "      <td>0.005997<\/td>\n",
              "      <td>0.003521<\/td>\n",
              "      <td>0.000738<\/td>\n",
              "      <td>0.071995<\/td>\n",
              "      <td>0.002498<\/td>\n",
              "      <td>0.412937<\/td>\n",
              "      <td>0.463938<\/td>\n",
              "      <td>0.123125<\/td>\n",
              "    <\/tr>\n",
              "    <tr>\n",
              "      <th>112687<\/th>\n",
              "      <td>3.666602<\/td>\n",
              "      <td>-6.263341<\/td>\n",
              "      <td>-0.079479<\/td>\n",
              "      <td>-0.031530<\/td>\n",
              "      <td>0.998498<\/td>\n",
              "      <td>0.044809<\/td>\n",
              "      <td>0.002252<\/td>\n",
              "      <td>0.001927<\/td>\n",
              "      <td>0.000296<\/td>\n",
              "      <td>0.066193<\/td>\n",
              "      <td>0.001087<\/td>\n",
              "      <td>0.144553<\/td>\n",
              "      <td>0.723923<\/td>\n",
              "      <td>0.131524<\/td>\n",
              "    <\/tr>\n",
              "    <tr>\n",
              "      <th>112688<\/th>\n",
              "      <td>-3.272091<\/td>\n",
              "      <td>-6.239643<\/td>\n",
              "      <td>0.181700<\/td>\n",
              "      <td>-0.053892<\/td>\n",
              "      <td>0.978357<\/td>\n",
              "      <td>0.199785<\/td>\n",
              "      <td>0.003350<\/td>\n",
              "      <td>0.002719<\/td>\n",
              "      <td>0.000325<\/td>\n",
              "      <td>0.050888<\/td>\n",
              "      <td>0.001437<\/td>\n",
              "      <td>0.188195<\/td>\n",
              "      <td>0.714662<\/td>\n",
              "      <td>0.097143<\/td>\n",
              "    <\/tr>\n",
              "    <tr>\n",
              "      <th>112689<\/th>\n",
              "      <td>-4.838309<\/td>\n",
              "      <td>-6.341330<\/td>\n",
              "      <td>-0.919753<\/td>\n",
              "      <td>-0.014882<\/td>\n",
              "      <td>-0.994041<\/td>\n",
              "      <td>0.107983<\/td>\n",
              "      <td>0.004117<\/td>\n",
              "      <td>0.002803<\/td>\n",
              "      <td>0.000779<\/td>\n",
              "      <td>0.101132<\/td>\n",
              "      <td>0.002079<\/td>\n",
              "      <td>0.319216<\/td>\n",
              "      <td>0.491678<\/td>\n",
              "      <td>0.189106<\/td>\n",
              "    <\/tr>\n",
              "    <tr>\n",
              "      <th>112690<\/th>\n",
              "      <td>2.953025<\/td>\n",
              "      <td>3.677631<\/td>\n",
              "      <td>-1.870110<\/td>\n",
              "      <td>0.006818<\/td>\n",
              "      <td>0.060600<\/td>\n",
              "      <td>0.998139<\/td>\n",
              "      <td>0.003720<\/td>\n",
              "      <td>0.002754<\/td>\n",
              "      <td>0.000004<\/td>\n",
              "      <td>0.000659<\/td>\n",
              "      <td>0.000352<\/td>\n",
              "      <td>0.259717<\/td>\n",
              "      <td>0.739135<\/td>\n",
              "      <td>0.001148<\/td>\n",
              "    <\/tr>\n",
              "  <\/tbody>\n",
              "<\/table>\n",
              "<p>112691 rows × 14 columns<\/p>\n",
              "<\/div>"
            ]
          },
          "metadata":{
            
          },
          "output_type":"display_data"
        }
      ],
      "metadata":{
        
      }
    },
    {
      "cell_type":"markdown",
      "source":[
        "Para ser usadas en el algoritmo, las características deben ser devueltas al formato numpy array. Además, no todas las características de \"points\" son útiles, seleccionaremos las normales y las calculadas de los autovalores, pero no las coordenadas ni los autovalores en sí mismos."
      ],
      "metadata":{
        
      }
    },
    {
      "cell_type":"code",
      "source":[
        "# Selección de características\n",
        "train_features = cloud.points[['nx(26)','ny(26)','nz(26)','curvature(26)','omnivariance(26)','linearity(26)','planarity(26)','sphericity(26)',]].to_numpy()\n",
        "print(train_features)"
      ],
      "execution_count":8,
      "outputs":[
        {
          "name":"stdout",
          "text":[
            "[[ 4.09398236e-01 -5.16128039e-01  7.52332993e-01 ...  6.81103877e-01\n",
            "   1.43574314e-01  1.75321809e-01]\n",
            " [-3.69452005e-02 -1.15478178e-02  9.99250569e-01 ...  8.92562219e-01\n",
            "   1.07230621e-01  2.07160128e-04]\n",
            " [-1.43836749e-03  1.17188632e-01  9.93108632e-01 ...  3.71051005e-01\n",
            "   6.28451662e-01  4.97333005e-04]\n",
            " ...\n",
            " [-5.38916500e-02  9.78356578e-01  1.99785126e-01 ...  1.88194981e-01\n",
            "   7.14662256e-01  9.71427627e-02]\n",
            " [-1.48821685e-02 -9.94041318e-01  1.07983233e-01 ...  3.19215819e-01\n",
            "   4.91678057e-01  1.89106123e-01]\n",
            " [ 6.81818376e-03  6.05997363e-02  9.98138860e-01 ...  2.59717123e-01\n",
            "   7.39134624e-01  1.14825300e-03]]\n"
          ],
          "output_type":"stream"
        }
      ],
      "metadata":{
        
      }
    },
    {
      "cell_type":"markdown",
      "source":[
        "# Funciones\n",
        "\n",
        "Antes de proseguir, vamos a definir unas funciones\n",
        "\n",
        "Hemos visto paso por paso como leer los datos de entrada, dividirlos y extraer sus características. Estas características son las empleadas en el entrenamiento, pero también son necesarias para la clasificación futura, por lo tanto, es necesario para cada muestra extraer estas características y generar una matriz de datos cuyos atributos se correspondan con el orden de entrenamiento. Para no repetir código cada vez que carguemos una matriz de datos, definiremos dos funciones. La primera separará los datos. La segunda, extraerá las características."
      ],
      "metadata":{
        
      }
    },
    {
      "cell_type":"code",
      "source":[
        "# Esta función servirá para separar los datos de entrada en coordenadas y etiquetas\n",
        "def separar_input(input_matrix):\n",
        "    coord = pd.DataFrame(list(zip(input_matrix[:,0],input_matrix[:,1],input_matrix[:,2])))  \n",
        "    coord.columns =['x', 'y', 'z']\n",
        "    labels = input_matrix[:,3]\n",
        "    return coord, labels"
      ],
      "execution_count":9,
      "outputs":[
        
      ],
      "metadata":{
        
      }
    },
    {
      "cell_type":"markdown",
      "source":[
        "# Tarea 3\n",
        "\n",
        "Genera una función para la extracción de características que integre los pasos anteriores"
      ],
      "metadata":{
        
      }
    },
    {
      "cell_type":"code",
      "source":[
        "def extraer_features(coord):\n",
        "    # Crear nube\n",
        "    cloud = COMPLETAR\n",
        "    # Calcular vecinos\n",
        "    k_neighbors_25 = COMPLETAR\n",
        "    # Calcular y añadir normales\n",
        "    cloud.add_scalar_field(\"normals\", k_neighbors=k_neighbors_25)\n",
        "    # Calcular y añadir eigenvalues\n",
        "    eigenvalues = COMPLETAR\n",
        "    # Calcular y añadir otras caracteristicas geometricas\n",
        "    cloud.add_scalar_field(\"curvature\", ev=eigenvalues)\n",
        "    COMPLETAR\n",
        "    COMPLETAR\n",
        "    COMPLETAR\n",
        "    COMPLETAR\n",
        "    # Transformar dataframe de puntos a nparray de features (por orden)\n",
        "    features = COMPLETAR\n",
        "    return features"
      ],
      "execution_count":10,
      "outputs":[
        
      ],
      "metadata":{
        
      }
    },
    {
      "cell_type":"markdown",
      "source":[
        "Si has sido capaz de copiar y pegar correctamente el código anterior para generar la función, el nuevo código para dividir y extraer características queda resumido en dos lineas:"
      ],
      "metadata":{
        
      }
    },
    {
      "cell_type":"code",
      "source":[
        "# Separar datos de entrada\n",
        "train_coord,train_labels = separar_input(train_data)\n",
        "\n",
        "# Extraer características\n",
        "train_features = extraer_features(train_coord)"
      ],
      "execution_count":11,
      "outputs":[
        
      ],
      "metadata":{
        
      }
    },
    {
      "cell_type":"markdown",
      "source":[
        "# Entrenamiento de algoritmos\n",
        "\n",
        "En este paso llegamos al núcleo del algoritmo. Una vez todos los datos están preparados procedemos al entrenamiento. En esta práctica vamos a entrenar y usar los dos algoritmos más empleados en la actualidad: \n",
        "- Support Vector Machine. Dado un conjunto de puntos, en el que cada uno de ellos pertenece a una de dos posibles categorías, un algoritmo basado en SVM construye un modelo capaz de predecir si un punto nuevo (cuya categoría desconocemos) pertenece a una categoría o a la otra.\n",
        "\n",
        "<center> <img src=\"img\/svm.png\"><\/center>\n",
        "<center>Fuente: https:\/\/en.wikipedia.org\/wiki\/Support-vector_machine<\/center>\n",
        "\n",
        "- Random Forest. Es una combinación de árboles predictores tal que cada árbol depende de los valores de un vector aleatorio probado independientemente y con la misma distribución para cada uno de estos. El resultado de la calsificación es la clase predicha mayoritariamente por todos los árboles.\n",
        "\n",
        "<center> <img src=\"img\/rf.png\"><\/center>\n",
        "<center>Fuente: https:\/\/es.wikipedia.org\/wiki\/Random_forest<\/center>"
      ],
      "metadata":{
        
      }
    },
    {
      "cell_type":"markdown",
      "source":[
        "Una vez realizado todo el trabajo, solo hay que darle los datos al algoritmo para que entrene."
      ],
      "metadata":{
        
      }
    },
    {
      "cell_type":"code",
      "source":[
        "# Definir clasificador SVM\n",
        "clf_svm = svm.SVC()\n",
        "\n",
        "#Entrenar (esto puede tardar varios minutos)\n",
        "clf_svm.fit(train_features, train_labels)"
      ],
      "execution_count":12,
      "outputs":[
        {
          "data":{
            "text\/plain":[
              "SVC()"
            ]
          },
          "metadata":{
            
          },
          "output_type":"display_data"
        }
      ],
      "metadata":{
        
      }
    },
    {
      "cell_type":"code",
      "source":[
        "# Definir clasificador RF\n",
        "clf_rf = RandomForestClassifier()\n",
        "\n",
        "#Entrenar (esto debería ir más rápido que el anterior)\n",
        "clf_rf.fit(train_features, train_labels)"
      ],
      "execution_count":13,
      "outputs":[
        {
          "data":{
            "text\/plain":[
              "RandomForestClassifier()"
            ]
          },
          "metadata":{
            
          },
          "output_type":"display_data"
        }
      ],
      "metadata":{
        
      }
    },
    {
      "cell_type":"markdown",
      "source":[
        "# Análisis de los resultados mediante métricas\n",
        "\n",
        "Las métricas nos permiten saber cuán bueno es nuestro algoritmo entrenado respecto a la realidad. Si las métricas se aplican sobre los datos de entrenamiento sabremos si nuestro algoritmo ha sido capaz de aprender de los datos proporcionados. Pero para obtener resultados fiables y contrastables sobre el buen funcionamiento del algoritmo tendremos que testearlo sobre datos distintos de los usados para entrenar. Por defecto, la librería sklearn ofrece funciones para emplear las métricas más comunes:\n",
        "\n",
        "\n",
        "<center> <img src=\"img\/matcon.jpg\"><\/center>\n",
        "<center>Fuente: Confusion Matrix - Applied Deep Learning with Keras<\/center>\n",
        "\n",
        "\n",
        "<center> <img src=\"img\/met.png\"><\/center>\n",
        "<center>Fuente: https:\/\/www.researchgate.net\/<\/center>"
      ],
      "metadata":{
        
      }
    },
    {
      "cell_type":"markdown",
      "source":[
        "Primero, apliquemos las metricas a los datos de entrenamiento para observar qué algoritmo ha aprendido mejor, es decir, identificado y extraido más información."
      ],
      "metadata":{
        
      }
    },
    {
      "cell_type":"code",
      "source":[
        "#  Clasificamos los puntos (a través de las features) (Esto puede tardar unos minutos)\n",
        "\n",
        "# Con el SVM\n",
        "train_predictions_SVM = clf_svm.predict(train_features)\n",
        "\n",
        "# Con el Random Forest\n",
        "train_predictions_RF = clf_rf.predict(train_features)"
      ],
      "execution_count":14,
      "outputs":[
        
      ],
      "metadata":{
        
      }
    },
    {
      "cell_type":"code",
      "source":[
        "# Cálculo de métricas para el algoritmo SVM\n",
        "\n",
        "# Aquí definimos los datos de referencia (ground truth)\n",
        "y_test = train_labels\n",
        "\n",
        "# Aquí definimos los datos que hemos calculado\n",
        "y_pred = train_predictions_SVM\n",
        "\n",
        "# Calcula y muestra la matriz de confusión\n",
        "print(confusion_matrix(y_test,y_pred))\n",
        "\n",
        "# Calcula y muestra estadísticas por clase\n",
        "print(classification_report(y_test,y_pred))\n",
        "\n",
        "# Calcula y muestra estadísticas globales\n",
        "print(accuracy_score(y_test, y_pred))"
      ],
      "execution_count":15,
      "outputs":[
        {
          "name":"stdout",
          "text":[
            "[[ 1159  5053   826  1350]\n",
            " [  134 38379   435  1729]\n",
            " [  152  1043 46449  1441]\n",
            " [  332  3578  1843  8788]]\n",
            "              precision    recall  f1-score   support\n",
            "\n",
            "         1.0       0.65      0.14      0.23      8388\n",
            "         2.0       0.80      0.94      0.87     40677\n",
            "         3.0       0.94      0.95      0.94     49085\n",
            "         4.0       0.66      0.60      0.63     14541\n",
            "\n",
            "    accuracy                           0.84    112691\n",
            "   macro avg       0.76      0.66      0.67    112691\n",
            "weighted avg       0.83      0.84      0.82    112691\n",
            "\n",
            "0.8410165851753911\n"
          ],
          "output_type":"stream"
        }
      ],
      "metadata":{
        
      }
    },
    {
      "cell_type":"markdown",
      "source":[
        "# Tarea 4\n",
        "\n",
        "Analiza los resultados. ¿Cuál es la accuracy? ¿Dónde se produce la mayor confusión? ¿Qué clase se clasifica mejor?"
      ],
      "metadata":{
        
      }
    },
    {
      "cell_type":"markdown",
      "source":[
        "# Tarea 5\n",
        "\n",
        "Calcula las métricas para el conjunto de entrenamiento con el Random Forest entrenado. ¿El resultado es mejor? "
      ],
      "metadata":{
        
      }
    },
    {
      "cell_type":"code",
      "source":[
        "# Cálculo de métricas para el algoritmo SVM\n",
        "\n",
        "# Aquí definimos los datos de referencia (ground truth)\n",
        "y_test = COMPLETAR\n",
        "\n",
        "# Aquí definimos los datos que hemos calculado\n",
        "y_pred = COMPLETAR\n",
        "\n",
        "# Calcula y muestra la matriz de confusión\n",
        "print(confusion_matrix(y_test,y_pred))\n",
        "\n",
        "# Calcula y muestra estadísticas por clase\n",
        "print(classification_report(y_test,y_pred))\n",
        "\n",
        "# Calcula y muestra estadísticas globales\n",
        "print(accuracy_score(y_test, y_pred))"
      ],
      "execution_count":16,
      "outputs":[
        {
          "name":"stdout",
          "text":[
            "[[ 8386     0     2     0]\n",
            " [    0 40673     3     1]\n",
            " [    2     3 49074     6]\n",
            " [    0     4     1 14536]]\n",
            "              precision    recall  f1-score   support\n",
            "\n",
            "         1.0       1.00      1.00      1.00      8388\n",
            "         2.0       1.00      1.00      1.00     40677\n",
            "         3.0       1.00      1.00      1.00     49085\n",
            "         4.0       1.00      1.00      1.00     14541\n",
            "\n",
            "    accuracy                           1.00    112691\n",
            "   macro avg       1.00      1.00      1.00    112691\n",
            "weighted avg       1.00      1.00      1.00    112691\n",
            "\n",
            "0.9998047758915973\n"
          ],
          "output_type":"stream"
        }
      ],
      "metadata":{
        
      }
    },
    {
      "cell_type":"markdown",
      "source":[
        "# Tarea 6\n",
        "\n",
        "Calcula las métricas para el conjunto de testeo con los dos algoritmos. ¿Cuál fue mejor? ¿Observas underfitting u overfitting en algún algoritmo? ¿Cómo se puede solucionar? **Nota:** Carga la nube de testeo 000079.txt, separa los datos, extrae las features, y clasificalas. Usa las funciones creadas anteriormente."
      ],
      "metadata":{
        
      }
    },
    {
      "cell_type":"code",
      "source":[
        "# Lectura de datos\n",
        "test_data = COMPLETAR"
      ],
      "execution_count":17,
      "outputs":[
        
      ],
      "metadata":{
        
      }
    },
    {
      "cell_type":"code",
      "source":[
        "# Separar datos de entrada\n",
        "test_coord,test_labels = COMPLETAR\n",
        "\n",
        "# Extraer características\n",
        "test_features = COMPLETAR"
      ],
      "execution_count":18,
      "outputs":[
        
      ],
      "metadata":{
        
      }
    },
    {
      "cell_type":"code",
      "source":[
        "#  Clasificamos los puntos (a través de las features) (Esto puede tardar unos minutos)\n",
        "\n",
        "# Con el SVM\n",
        "test_predictions_SVM = COMPLETAR\n",
        "\n",
        "# Con el Random Forest\n",
        "test_predictions_RF = COMPLETAR"
      ],
      "execution_count":19,
      "outputs":[
        
      ],
      "metadata":{
        
      }
    },
    {
      "cell_type":"code",
      "source":[
        "# Cálculo de métricas para el algoritmo SVM\n",
        "\n",
        "# Aquí definimos los datos de referencia (ground truth)\n",
        "y_test = COMPLETAR\n",
        "\n",
        "# Aquí definimos los datos que hemos calculado\n",
        "y_pred = COMPLETAR\n",
        "\n",
        "# Calcula y muestra la matriz de confusión\n",
        "print(confusion_matrix(y_test,y_pred))\n",
        "\n",
        "# Calcula y muestra estadísticas por clase\n",
        "print(classification_report(y_test,y_pred))\n",
        "\n",
        "# Calcula y muestra estadísticas globales\n",
        "print(accuracy_score(y_test, y_pred))"
      ],
      "execution_count":20,
      "outputs":[
        {
          "name":"stdout",
          "text":[
            "[[ 1920 10956  3556  3270]\n",
            " [  221 32952   528  1690]\n",
            " [  308   581 39982  1724]\n",
            " [  435  4218  1291  7633]]\n",
            "              precision    recall  f1-score   support\n",
            "\n",
            "         1.0       0.67      0.10      0.17     19702\n",
            "         2.0       0.68      0.93      0.78     35391\n",
            "         3.0       0.88      0.94      0.91     42595\n",
            "         4.0       0.53      0.56      0.55     13577\n",
            "\n",
            "    accuracy                           0.74    111265\n",
            "   macro avg       0.69      0.63      0.60    111265\n",
            "weighted avg       0.74      0.74      0.69    111265\n",
            "\n",
            "0.7413562216330383\n"
          ],
          "output_type":"stream"
        }
      ],
      "metadata":{
        
      }
    },
    {
      "cell_type":"code",
      "source":[
        "# Cálculo de métricas para el algoritmo RF\n",
        "\n",
        "# Aquí definimos los datos de referencia (ground truth)\n",
        "y_test = COMPLETAR\n",
        "\n",
        "# Aquí definimos los datos que hemos calculado\n",
        "y_pred = COMPLETAR\n",
        "\n",
        "# Calcula y muestra la matriz de confusión\n",
        "print(confusion_matrix(y_test,y_pred))\n",
        "\n",
        "# Calcula y muestra estadísticas por clase\n",
        "print(classification_report(y_test,y_pred))\n",
        "\n",
        "# Calcula y muestra estadísticas globales\n",
        "print(accuracy_score(y_test, y_pred))"
      ],
      "execution_count":21,
      "outputs":[
        {
          "name":"stdout",
          "text":[
            "[[ 5528  5740  4621  3813]\n",
            " [  749 32037   355  2250]\n",
            " [  840   395 39278  2082]\n",
            " [ 1252  2598  1578  8149]]\n",
            "              precision    recall  f1-score   support\n",
            "\n",
            "         1.0       0.66      0.28      0.39     19702\n",
            "         2.0       0.79      0.91      0.84     35391\n",
            "         3.0       0.86      0.92      0.89     42595\n",
            "         4.0       0.50      0.60      0.55     13577\n",
            "\n",
            "    accuracy                           0.76    111265\n",
            "   macro avg       0.70      0.68      0.67    111265\n",
            "weighted avg       0.76      0.76      0.74    111265\n",
            "\n",
            "0.7638700399946075\n"
          ],
          "output_type":"stream"
        }
      ],
      "metadata":{
        
      }
    },
    {
      "cell_type":"markdown",
      "source":[
        "# Visualización de la clasificación\n",
        "\n",
        "Una ventaja de las nubes de puntos es que podemos visualizar los resultados, puesto que son datos geométricos. Si usamos la inteligencia artificial para resolver problemas exclusivamente numéricos, no es posible una visualización de los datos tan claro. La visualización de los datos es muy relevante para poder identificar posibles fallos que pasan desapercibidos en las métricas.\n",
        "\n",
        "Por último, procedemos a exportar los resultados en una nube para poder visualizarla en CloudCompare. La nube exportada tendrá las siguientes columnas: \n",
        "- 3 columnas de coordenadas\n",
        "- 1 columna de labels (ground truth)\n",
        "- 1 columna de predicción SVM\n",
        "- 1 columna de predicción RF\n",
        "\n",
        "¿Se detecta algún problema que no se detectaba en las métricas? ¿Son los resultados tan parecidos como sugieren las métricas? ¿Qué clases se han clasificado mejor? Pudiendo visualizar los problemas, ¿se te ocurre alguna solución mejor que la propuesta solo con las métricas?"
      ],
      "metadata":{
        
      }
    },
    {
      "cell_type":"code",
      "source":[
        "# Exportar\n",
        "# Definicion de la ruta y nombre del archivo\n",
        "ruta = \"Nubes\/00000079_predicted.txt\"\n",
        "\n",
        "#Seleccion de datos \n",
        "datos = np.column_stack((test_data,test_predictions_SVM,test_predictions_RF))\n",
        "\n",
        "# Guardado\n",
        "np.savetxt(ruta,datos,delimiter=' ') "
      ],
      "execution_count":22,
      "outputs":[
        
      ],
      "metadata":{
        
      }
    },
    {
      "cell_type":"code",
      "source":[
        
      ],
      "execution_count":0,
      "outputs":[
        
      ],
      "metadata":{
        
      }
    }
  ],
  "metadata":{
    
  },
  "nbformat":4,
  "nbformat_minor":0
}